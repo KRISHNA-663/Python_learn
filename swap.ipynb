{
 "cells": [
  {
   "cell_type": "markdown",
   "metadata": {},
   "source": [
    "Swapping"
   ]
  },
  {
   "cell_type": "code",
   "execution_count": 2,
   "metadata": {},
   "outputs": [
    {
     "name": "stdout",
     "output_type": "stream",
     "text": [
      "Before swapping\n",
      "a: 10\n",
      "b: 5\n",
      "After swapping\n",
      "a: 5\n",
      "b: 10\n"
     ]
    }
   ],
   "source": [
    "# With temp\n",
    "\n",
    "a=10\n",
    "b=5\n",
    "print(\"Before swapping\")\n",
    "print('a:',a)\n",
    "print('b:',b)\n",
    "\n",
    "print(\"After swapping\")\n",
    "temp=a\n",
    "a=b\n",
    "b=temp\n",
    "print('a:',a)\n",
    "print('b:',b)\n"
   ]
  },
  {
   "cell_type": "code",
   "execution_count": 6,
   "metadata": {},
   "outputs": [
    {
     "name": "stdout",
     "output_type": "stream",
     "text": [
      "10 5\n"
     ]
    }
   ],
   "source": [
    "# Without temp variable\n",
    "a,b=b,a\n",
    "print(a,b)"
   ]
  }
 ],
 "metadata": {
  "kernelspec": {
   "display_name": "Python 3",
   "language": "python",
   "name": "python3"
  },
  "language_info": {
   "codemirror_mode": {
    "name": "ipython",
    "version": 3
   },
   "file_extension": ".py",
   "mimetype": "text/x-python",
   "name": "python",
   "nbconvert_exporter": "python",
   "pygments_lexer": "ipython3",
   "version": "3.11.3"
  }
 },
 "nbformat": 4,
 "nbformat_minor": 2
}
