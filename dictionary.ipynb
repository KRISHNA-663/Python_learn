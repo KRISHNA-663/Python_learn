{
 "cells": [
  {
   "cell_type": "markdown",
   "metadata": {},
   "source": [
    "<b>Dictionary</b>\n",
    "- Key value pair\n",
    "- Key is unique\n",
    "- Key is immutable\n",
    "- Dictionaries are known as hashmap in other languages"
   ]
  },
  {
   "cell_type": "code",
   "execution_count": 8,
   "metadata": {},
   "outputs": [
    {
     "name": "stdout",
     "output_type": "stream",
     "text": [
      "{1: 'One', 2: 'Two'}\n",
      "<class 'dict'>\n"
     ]
    }
   ],
   "source": [
    "map = {1:'One',2:'Two'} # 1 is key and One is value \n",
    "\n",
    "print(map)\n",
    "print(type(map))\n"
   ]
  },
  {
   "cell_type": "code",
   "execution_count": 9,
   "metadata": {},
   "outputs": [
    {
     "name": "stdout",
     "output_type": "stream",
     "text": [
      "{1: 'One', 2: 'Two'}\n",
      "\n",
      "{1: 'First', 2: 'Two'}\n"
     ]
    }
   ],
   "source": [
    "print(map)\n",
    "print()\n",
    "map = {1:'One',2:'Two',1:'First'}  # Key must be unique so it replaces 'First' with 'One'\n",
    "print(map)"
   ]
  },
  {
   "cell_type": "markdown",
   "metadata": {},
   "source": [
    "- There is no index concept in dictionaries\n",
    "- Dictionaries are not ordered (unordered)"
   ]
  },
  {
   "cell_type": "code",
   "execution_count": 11,
   "metadata": {},
   "outputs": [
    {
     "name": "stdout",
     "output_type": "stream",
     "text": [
      "Two\n"
     ]
    },
    {
     "ename": "KeyError",
     "evalue": "7",
     "output_type": "error",
     "traceback": [
      "\u001b[1;31m---------------------------------------------------------------------------\u001b[0m",
      "\u001b[1;31mKeyError\u001b[0m                                  Traceback (most recent call last)",
      "Cell \u001b[1;32mIn[11], line 3\u001b[0m\n\u001b[0;32m      1\u001b[0m \u001b[38;5;28mprint\u001b[39m(\u001b[38;5;28mmap\u001b[39m[\u001b[38;5;241m2\u001b[39m]) \u001b[38;5;66;03m#value is accessed using the key\u001b[39;00m\n\u001b[1;32m----> 3\u001b[0m \u001b[38;5;28mprint\u001b[39m(\u001b[38;5;28;43mmap\u001b[39;49m\u001b[43m[\u001b[49m\u001b[38;5;241;43m7\u001b[39;49m\u001b[43m]\u001b[49m)\n",
      "\u001b[1;31mKeyError\u001b[0m: 7"
     ]
    }
   ],
   "source": [
    "print(map[2]) #value is accessed using the key\n",
    "\n",
    "print(map[7]) #key error"
   ]
  },
  {
   "cell_type": "code",
   "execution_count": 18,
   "metadata": {},
   "outputs": [
    {
     "name": "stdout",
     "output_type": "stream",
     "text": [
      "Krishna\n"
     ]
    },
    {
     "ename": "TypeError",
     "evalue": "unhashable type: 'list'",
     "output_type": "error",
     "traceback": [
      "\u001b[1;31m---------------------------------------------------------------------------\u001b[0m",
      "\u001b[1;31mTypeError\u001b[0m                                 Traceback (most recent call last)",
      "Cell \u001b[1;32mIn[18], line 7\u001b[0m\n\u001b[0;32m      3\u001b[0m m \u001b[38;5;241m=\u001b[39m {\u001b[38;5;124m'\u001b[39m\u001b[38;5;124m1\u001b[39m\u001b[38;5;124m'\u001b[39m:\u001b[38;5;124m'\u001b[39m\u001b[38;5;124mKrishna\u001b[39m\u001b[38;5;124m'\u001b[39m,\u001b[38;5;124m'\u001b[39m\u001b[38;5;124m2\u001b[39m\u001b[38;5;124m'\u001b[39m:\u001b[38;5;124m'\u001b[39m\u001b[38;5;124mJegan\u001b[39m\u001b[38;5;124m'\u001b[39m} \u001b[38;5;66;03m# str can be used as it is immutable\u001b[39;00m\n\u001b[0;32m      5\u001b[0m \u001b[38;5;28mprint\u001b[39m(m[\u001b[38;5;124m'\u001b[39m\u001b[38;5;124m1\u001b[39m\u001b[38;5;124m'\u001b[39m])\n\u001b[1;32m----> 7\u001b[0m l \u001b[38;5;241m=\u001b[39m {[\u001b[38;5;124m'\u001b[39m\u001b[38;5;124m1\u001b[39m\u001b[38;5;124m'\u001b[39m]:\u001b[38;5;124m'\u001b[39m\u001b[38;5;124mNaveen\u001b[39m\u001b[38;5;124m'\u001b[39m,[\u001b[38;5;124m'\u001b[39m\u001b[38;5;124m2\u001b[39m\u001b[38;5;124m'\u001b[39m]:\u001b[38;5;124m'\u001b[39m\u001b[38;5;124mMaha\u001b[39m\u001b[38;5;124m'\u001b[39m} \u001b[38;5;66;03m# Error as list is mutable\u001b[39;00m\n\u001b[0;32m     10\u001b[0m n \u001b[38;5;241m=\u001b[39m {(\u001b[38;5;241m1\u001b[39m,):\u001b[38;5;124m'\u001b[39m\u001b[38;5;124mMohit\u001b[39m\u001b[38;5;124m'\u001b[39m,\u001b[38;5;124m'\u001b[39m\u001b[38;5;124m2\u001b[39m\u001b[38;5;124m'\u001b[39m:\u001b[38;5;124m'\u001b[39m\u001b[38;5;124mMohan\u001b[39m\u001b[38;5;124m'\u001b[39m} \u001b[38;5;66;03m# tuple can be used as it is immutable\u001b[39;00m\n\u001b[0;32m     12\u001b[0m \u001b[38;5;28mprint\u001b[39m(n[(\u001b[38;5;241m1\u001b[39m,)])\n",
      "\u001b[1;31mTypeError\u001b[0m: unhashable type: 'list'"
     ]
    }
   ],
   "source": [
    "# Immutable data types can be used as a key\n",
    "\n",
    "m = {'1':'Krishna','2':'Jegan'} # str can be used as it is immutable\n",
    "\n",
    "print(m['1'])\n",
    "\n",
    "l = {['1']:'Naveen',['2']:'Maha'} # Error as list is mutable\n",
    "\n",
    "\n",
    "n = {(1,):'Mohit','2':'Mohan'} # tuple can be used as it is immutable\n",
    "\n",
    "print(n[(1,)])\n"
   ]
  },
  {
   "cell_type": "markdown",
   "metadata": {},
   "source": [
    "Get() - Accessing values"
   ]
  },
  {
   "cell_type": "code",
   "execution_count": 24,
   "metadata": {},
   "outputs": [
    {
     "name": "stdout",
     "output_type": "stream",
     "text": [
      "Two\n",
      "Mohit\n",
      "Krishna\n"
     ]
    }
   ],
   "source": [
    "print(map.get(2))\n",
    "\n",
    "print(n.get((1,)))\n",
    "\n",
    "print(m.get('1'))"
   ]
  },
  {
   "cell_type": "markdown",
   "metadata": {},
   "source": [
    "len()"
   ]
  },
  {
   "cell_type": "code",
   "execution_count": 26,
   "metadata": {},
   "outputs": [
    {
     "name": "stdout",
     "output_type": "stream",
     "text": [
      "2\n"
     ]
    }
   ],
   "source": [
    "print(len(m)) # counts the key value pairs"
   ]
  },
  {
   "cell_type": "markdown",
   "metadata": {},
   "source": [
    "keys() - To get only the keys seperately"
   ]
  },
  {
   "cell_type": "code",
   "execution_count": 28,
   "metadata": {},
   "outputs": [
    {
     "name": "stdout",
     "output_type": "stream",
     "text": [
      "dict_keys(['1', '2'])\n",
      "dict_keys([(1,), '2'])\n"
     ]
    }
   ],
   "source": [
    "print(m.keys())\n",
    "print(n.keys())"
   ]
  },
  {
   "cell_type": "markdown",
   "metadata": {},
   "source": [
    "values() - To get only the values"
   ]
  },
  {
   "cell_type": "code",
   "execution_count": 30,
   "metadata": {},
   "outputs": [
    {
     "name": "stdout",
     "output_type": "stream",
     "text": [
      "dict_values(['Krishna', 'Jegan'])\n",
      "dict_values(['Mohit', 'Mohan'])\n"
     ]
    }
   ],
   "source": [
    "print(m.values())\n",
    "print(n.values())"
   ]
  },
  {
   "cell_type": "markdown",
   "metadata": {},
   "source": [
    "items() - To obtain the key value pairs as a list"
   ]
  },
  {
   "cell_type": "code",
   "execution_count": 32,
   "metadata": {},
   "outputs": [
    {
     "name": "stdout",
     "output_type": "stream",
     "text": [
      "dict_items([('1', 'Krishna'), ('2', 'Jegan')])\n",
      "dict_items([((1,), 'Mohit'), ('2', 'Mohan')])\n"
     ]
    }
   ],
   "source": [
    "print(m.items())\n",
    "print(n.items())"
   ]
  },
  {
   "cell_type": "markdown",
   "metadata": {},
   "source": [
    "Inserting / Updating value in a dict"
   ]
  },
  {
   "cell_type": "code",
   "execution_count": 35,
   "metadata": {},
   "outputs": [
    {
     "name": "stdout",
     "output_type": "stream",
     "text": [
      "{'1': 'Krishna', '2': 'Jegan', 4: 'Yunus', 2: 'monish'}\n",
      "{'1': 'Krishna', '2': 'Jegan', 4: 'Yunus', 2: 'monish'}\n",
      "{'1': 'Krishna', '2': 'Maha', 4: 'Yunus', 2: 'monish'}\n"
     ]
    }
   ],
   "source": [
    "#insert\n",
    "m[4]='Yunus'\n",
    "print(m)\n",
    "\n",
    "m[2]='monish'\n",
    "print(m)\n",
    "\n",
    "#update\n",
    "m['2']='Maha'\n",
    "print(m)"
   ]
  },
  {
   "cell_type": "markdown",
   "metadata": {},
   "source": [
    "Remove - pop()"
   ]
  },
  {
   "cell_type": "code",
   "execution_count": 37,
   "metadata": {},
   "outputs": [
    {
     "name": "stdout",
     "output_type": "stream",
     "text": [
      "{'1': 'Krishna', 4: 'Yunus', 2: 'monish'}\n"
     ]
    }
   ],
   "source": [
    "m.pop('2')\n",
    "print(m)"
   ]
  },
  {
   "cell_type": "markdown",
   "metadata": {},
   "source": [
    "Clear - clear()"
   ]
  },
  {
   "cell_type": "code",
   "execution_count": 39,
   "metadata": {},
   "outputs": [
    {
     "name": "stdout",
     "output_type": "stream",
     "text": [
      "{}\n"
     ]
    }
   ],
   "source": [
    "m.clear()\n",
    "print(m)"
   ]
  },
  {
   "cell_type": "markdown",
   "metadata": {},
   "source": [
    "<b> Quiz"
   ]
  },
  {
   "cell_type": "code",
   "execution_count": 41,
   "metadata": {},
   "outputs": [
    {
     "name": "stdout",
     "output_type": "stream",
     "text": [
      "T\n"
     ]
    }
   ],
   "source": [
    "number = {5:{'P':{5:\"P\"},6:\"Q\"},\n",
    "          7:\"R\",\n",
    "          'Q':\"S\",\n",
    "          \"S\":\"T\"}\n",
    "print(number[number[number[5][6]]])\n",
    "\n",
    "\n",
    "#number[5][6] - It accesses the key 5 and in that value we have another dict and we access its value using key 6 and it is \"Q\"\n",
    "#number[Q] - It accesses the key Q and its value as S\n",
    "#number[S] - It accesses the Key S and its value as T "
   ]
  }
 ],
 "metadata": {
  "kernelspec": {
   "display_name": "Python 3",
   "language": "python",
   "name": "python3"
  },
  "language_info": {
   "codemirror_mode": {
    "name": "ipython",
    "version": 3
   },
   "file_extension": ".py",
   "mimetype": "text/x-python",
   "name": "python",
   "nbconvert_exporter": "python",
   "pygments_lexer": "ipython3",
   "version": "3.11.3"
  }
 },
 "nbformat": 4,
 "nbformat_minor": 2
}
