{
 "cells": [
  {
   "cell_type": "markdown",
   "metadata": {},
   "source": [
    "<b>List</b>\n",
    "- Heterogeneous\n",
    "- Mutable"
   ]
  },
  {
   "cell_type": "markdown",
   "metadata": {},
   "source": [
    "Different data types can be stored in list, but not in arrays(homogeneous)."
   ]
  },
  {
   "cell_type": "code",
   "execution_count": 9,
   "metadata": {},
   "outputs": [
    {
     "name": "stdout",
     "output_type": "stream",
     "text": [
      "<class 'list'>\n",
      "176\n",
      "[170, 176, 150, 160, 'Hi']\n",
      "Hi\n"
     ]
    }
   ],
   "source": [
    "height = [170,176,150,160,\"Hi\"]\n",
    "print(type(height))\n",
    "print(height[1])\n",
    "print(height)\n",
    "print(height[-1])"
   ]
  },
  {
   "cell_type": "code",
   "execution_count": 14,
   "metadata": {},
   "outputs": [
    {
     "name": "stdout",
     "output_type": "stream",
     "text": [
      "[1, 2, 3, 4, 5, 6]\n",
      "[1, 2, 3, 1, 2, 3, 1, 2, 3, 1, 2, 3, 1, 2, 3]\n"
     ]
    }
   ],
   "source": [
    "lst1=[1,2,3]\n",
    "lst2=[4,5,6]\n",
    "\n",
    "print(lst1+lst2)\n",
    "\n",
    "\n",
    "lst3=lst1*5\n",
    "\n",
    "print(lst3)\n"
   ]
  },
  {
   "cell_type": "markdown",
   "metadata": {},
   "source": [
    "Functions of list"
   ]
  },
  {
   "cell_type": "code",
   "execution_count": 15,
   "metadata": {},
   "outputs": [
    {
     "name": "stdout",
     "output_type": "stream",
     "text": [
      "3\n"
     ]
    }
   ],
   "source": [
    "#length of list\n",
    "\n",
    "print(len(lst1)) "
   ]
  },
  {
   "cell_type": "code",
   "execution_count": 18,
   "metadata": {},
   "outputs": [
    {
     "name": "stdout",
     "output_type": "stream",
     "text": [
      "[1, 2, 3, 4, 4, 7]\n"
     ]
    }
   ],
   "source": [
    "# Inserting elements into list - appending()\n",
    "\n",
    "# only one element \n",
    "\n",
    "lst1.append(7)\n",
    "print(lst1)"
   ]
  },
  {
   "cell_type": "code",
   "execution_count": 19,
   "metadata": {},
   "outputs": [
    {
     "name": "stdout",
     "output_type": "stream",
     "text": [
      "[1, 2, 3, 4, 4, 7, 4, 5, 6]\n"
     ]
    }
   ],
   "source": [
    "# Inserting more elements into list - extend()\n",
    "\n",
    "# More elements\n",
    "\n",
    "lst1.extend(lst2) # lst1+=lst2 (similar)\n",
    "\n",
    "print(lst1)"
   ]
  },
  {
   "cell_type": "code",
   "execution_count": 30,
   "metadata": {},
   "outputs": [
    {
     "name": "stdout",
     "output_type": "stream",
     "text": [
      "[0, 1, 2, 3, 4, 7, 4, 5, 6]\n"
     ]
    }
   ],
   "source": [
    "# Inserting elements into specified index - insert()\n",
    "\n",
    "# Only one element\n",
    "\n",
    "lst1.insert(0,0)\n",
    "print(lst1)"
   ]
  },
  {
   "cell_type": "code",
   "execution_count": null,
   "metadata": {},
   "outputs": [],
   "source": [
    "#Deleting specific index in a list\n",
    "\n",
    "del lst1[5]\n",
    "print(lst1)"
   ]
  },
  {
   "cell_type": "markdown",
   "metadata": {},
   "source": [
    "Clearing list - Emptying list"
   ]
  },
  {
   "cell_type": "code",
   "execution_count": 32,
   "metadata": {},
   "outputs": [
    {
     "name": "stdout",
     "output_type": "stream",
     "text": [
      "[]\n"
     ]
    }
   ],
   "source": [
    "lst1.clear()\n",
    "print(lst1)"
   ]
  },
  {
   "cell_type": "markdown",
   "metadata": {},
   "source": [
    "Counting any element in a list"
   ]
  },
  {
   "cell_type": "code",
   "execution_count": 39,
   "metadata": {},
   "outputs": [
    {
     "name": "stdout",
     "output_type": "stream",
     "text": [
      "[1, 1, 1, 1, 1]\n",
      "5\n"
     ]
    }
   ],
   "source": [
    "lst1.append(1)\n",
    "print(lst1)\n",
    "print(lst1.count(1))"
   ]
  },
  {
   "cell_type": "markdown",
   "metadata": {},
   "source": [
    "To find the index of the specific element in a list"
   ]
  },
  {
   "cell_type": "code",
   "execution_count": 46,
   "metadata": {},
   "outputs": [
    {
     "name": "stdout",
     "output_type": "stream",
     "text": [
      "[1, 1, 1, 1, 1, 5, 2, 3, 5, 2, 3, 5]\n"
     ]
    }
   ],
   "source": [
    "lst1.append(5)\n",
    "lst1.extend([2,3,5])\n",
    "\n",
    "#index\n",
    "\n",
    "print(lst1.index(3))\n",
    "\n",
    "print(lst1)"
   ]
  },
  {
   "cell_type": "markdown",
   "metadata": {},
   "source": [
    "Min and Max"
   ]
  },
  {
   "cell_type": "code",
   "execution_count": 49,
   "metadata": {},
   "outputs": [
    {
     "name": "stdout",
     "output_type": "stream",
     "text": [
      "1\n",
      "5\n"
     ]
    }
   ],
   "source": [
    "print(min(lst1))\n",
    "print(max(lst1))"
   ]
  },
  {
   "cell_type": "markdown",
   "metadata": {},
   "source": [
    "Sorting a list"
   ]
  },
  {
   "cell_type": "code",
   "execution_count": 55,
   "metadata": {},
   "outputs": [
    {
     "name": "stdout",
     "output_type": "stream",
     "text": [
      "Before :  [5, 2, 9, 4, 8, 10, 34, 1]\n",
      "After :  [1, 2, 4, 5, 8, 9, 10, 34]\n"
     ]
    }
   ],
   "source": [
    "list1 = [5,2,9,4,8,10,34,1]\n",
    "\n",
    "print(\"Before : \",list1)\n",
    "\n",
    "list1.sort()\n",
    "\n",
    "print(\"After : \",list1)"
   ]
  },
  {
   "cell_type": "code",
   "execution_count": 56,
   "metadata": {},
   "outputs": [
    {
     "name": "stdout",
     "output_type": "stream",
     "text": [
      "[34, 10, 9, 8, 5, 4, 2, 1]\n"
     ]
    }
   ],
   "source": [
    "# To sort in reverse order or descending order\n",
    "\n",
    "list1.sort(reverse=True)\n",
    "\n",
    "print(list1)"
   ]
  },
  {
   "cell_type": "markdown",
   "metadata": {},
   "source": [
    "<b>SUM"
   ]
  },
  {
   "cell_type": "code",
   "execution_count": 57,
   "metadata": {},
   "outputs": [
    {
     "name": "stdout",
     "output_type": "stream",
     "text": [
      "73\n"
     ]
    }
   ],
   "source": [
    "print(sum(list1)) #sum"
   ]
  },
  {
   "cell_type": "markdown",
   "metadata": {},
   "source": [
    "<b>Mutability"
   ]
  },
  {
   "cell_type": "code",
   "execution_count": 60,
   "metadata": {},
   "outputs": [
    {
     "name": "stdout",
     "output_type": "stream",
     "text": [
      "[1000, 10, 9, 8, 5, 4, 2, 1]\n"
     ]
    }
   ],
   "source": [
    "list1[0]=1000 # We can change the value at any index as per we like and this property is called mutability\n",
    "print(list1)\n"
   ]
  },
  {
   "cell_type": "code",
   "execution_count": 62,
   "metadata": {},
   "outputs": [
    {
     "name": "stdout",
     "output_type": "stream",
     "text": [
      "[1000, 10, 9, 8, 5, 4, 2]\n",
      "[1000, 10, 9, 8, 5, 4]\n",
      "[10, 9, 8, 5, 4]\n"
     ]
    }
   ],
   "source": [
    "# pop()\n",
    "\n",
    "print(list1)\n",
    "\n",
    "list1.pop() # pop() method removes the last element of the list and returns it.\n",
    "\n",
    "print(list1)\n",
    "\n",
    "list1.pop(0)\n",
    "\n",
    "print(list1)"
   ]
  },
  {
   "cell_type": "code",
   "execution_count": 64,
   "metadata": {},
   "outputs": [
    {
     "name": "stdout",
     "output_type": "stream",
     "text": [
      "[10, 9, 8, 5, 4]\n",
      "[10, 9, 5, 4]\n"
     ]
    }
   ],
   "source": [
    "print(list1)\n",
    "\n",
    "#remove() - The remove() method removes the specified item from the list.\n",
    "\n",
    "list1.remove(8)\n",
    "\n",
    "print(list1)"
   ]
  },
  {
   "cell_type": "code",
   "execution_count": 71,
   "metadata": {},
   "outputs": [
    {
     "name": "stdout",
     "output_type": "stream",
     "text": [
      "[10, 9, 5, 4]\n",
      "[10, 9, 5, 4]\n"
     ]
    }
   ],
   "source": [
    "#testing\n",
    "\n",
    "# list1.append(\"Krishna\")\n",
    "\n",
    "print(list1)\n",
    "\n",
    "# list1.remove('Krishna')\n",
    "print(list1)"
   ]
  },
  {
   "cell_type": "markdown",
   "metadata": {},
   "source": [
    "Type conversion  (List - Tuple)"
   ]
  },
  {
   "cell_type": "code",
   "execution_count": 74,
   "metadata": {},
   "outputs": [
    {
     "name": "stdout",
     "output_type": "stream",
     "text": [
      "[1, 1, 1, 1, 1, 5, 2, 3, 5, 2, 3, 5]\n",
      "<class 'list'>\n",
      "<class 'tuple'>\n",
      "(1, 1, 1, 1, 1, 5, 2, 3, 5, 2, 3, 5)\n"
     ]
    }
   ],
   "source": [
    "print(lst1)\n",
    "print(type(lst1))\n",
    "\n",
    "tup = tuple(lst1)\n",
    "\n",
    "print(type(tup))\n",
    "print(tup)"
   ]
  }
 ],
 "metadata": {
  "kernelspec": {
   "display_name": "Python 3",
   "language": "python",
   "name": "python3"
  },
  "language_info": {
   "codemirror_mode": {
    "name": "ipython",
    "version": 3
   },
   "file_extension": ".py",
   "mimetype": "text/x-python",
   "name": "python",
   "nbconvert_exporter": "python",
   "pygments_lexer": "ipython3",
   "version": "3.11.3"
  }
 },
 "nbformat": 4,
 "nbformat_minor": 2
}
