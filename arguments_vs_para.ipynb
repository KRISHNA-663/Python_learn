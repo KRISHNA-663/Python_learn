{
 "cells": [
  {
   "cell_type": "markdown",
   "metadata": {},
   "source": [
    "Arguments vs Parameters"
   ]
  },
  {
   "cell_type": "markdown",
   "metadata": {},
   "source": [
    "- Keyword Argument\n",
    "- Default Argument\n",
    "- Positional Argument"
   ]
  },
  {
   "cell_type": "code",
   "execution_count": 1,
   "metadata": {},
   "outputs": [
    {
     "name": "stdout",
     "output_type": "stream",
     "text": [
      "10\n"
     ]
    }
   ],
   "source": [
    "#Positional argument - maps the parameters as per the order/position given as the arguments\n",
    "\n",
    "# area of rectangle\n",
    "def area(l,b): #parameters\n",
    "    return l*b\n",
    "\n",
    "l = int(input())\n",
    "b = int(input())\n",
    "ans = area(l,b) #arguments\n",
    "print(ans)"
   ]
  },
  {
   "cell_type": "code",
   "execution_count": 3,
   "metadata": {},
   "outputs": [
    {
     "name": "stdout",
     "output_type": "stream",
     "text": [
      "12\n"
     ]
    }
   ],
   "source": [
    "#Keyword argument - maps the parameters and arguments using the keywords, no order is necessary to follow\n",
    "# area of rectangle\n",
    "def area(g,l,b,a): #parameters\n",
    "    return l*b\n",
    "\n",
    "# l = 3\n",
    "# b = 4\n",
    "ans = area(l=3,a=1,g=2,b=4) #arguments\n",
    "print(ans)"
   ]
  },
  {
   "cell_type": "code",
   "execution_count": 6,
   "metadata": {},
   "outputs": [
    {
     "name": "stdout",
     "output_type": "stream",
     "text": [
      "7\n"
     ]
    }
   ],
   "source": [
    "#Default argument - Assigning default value for the parameter if the argument is not given\n",
    "\n",
    "# area of rectangle\n",
    "def area(l,b=1): #parameters\n",
    "    return l*b\n",
    "\n",
    "l = int(input())\n",
    "b = int(input())\n",
    "ans = area(l) #arguments\n",
    "print(ans)"
   ]
  }
 ],
 "metadata": {
  "kernelspec": {
   "display_name": "Python 3",
   "language": "python",
   "name": "python3"
  },
  "language_info": {
   "codemirror_mode": {
    "name": "ipython",
    "version": 3
   },
   "file_extension": ".py",
   "mimetype": "text/x-python",
   "name": "python",
   "nbconvert_exporter": "python",
   "pygments_lexer": "ipython3",
   "version": "3.11.3"
  }
 },
 "nbformat": 4,
 "nbformat_minor": 2
}
