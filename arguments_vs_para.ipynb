{
 "cells": [
  {
   "cell_type": "markdown",
   "metadata": {},
   "source": [
    "Arguments vs Parameters"
   ]
  },
  {
   "cell_type": "markdown",
   "metadata": {},
   "source": [
    "- Keyword Argument\n",
    "- Default Argument\n",
    "- Positional Argument"
   ]
  },
  {
   "cell_type": "code",
   "execution_count": 1,
   "metadata": {},
   "outputs": [
    {
     "name": "stdout",
     "output_type": "stream",
     "text": [
      "10\n"
     ]
    }
   ],
   "source": [
    "#Positional argument - maps the parameters as per the order/position given as the arguments\n",
    "\n",
    "#Positional argument should always be first in function call if we use mixed arguments\n",
    "\n",
    "# area of rectangle\n",
    "def area(l,b): #parameters\n",
    "    return l*b\n",
    "\n",
    "l = int(input())\n",
    "b = int(input())\n",
    "ans = area(l,b) #arguments\n",
    "print(ans)"
   ]
  },
  {
   "cell_type": "code",
   "execution_count": 3,
   "metadata": {},
   "outputs": [
    {
     "name": "stdout",
     "output_type": "stream",
     "text": [
      "12\n"
     ]
    }
   ],
   "source": [
    "#Keyword argument - maps the parameters and arguments using the keywords, no order is necessary to follow\n",
    "# area of rectangle\n",
    "def area(g,l,b,a): #parameters\n",
    "    return l*b\n",
    "\n",
    "# l = 3\n",
    "# b = 4\n",
    "ans = area(l=3,a=1,g=2,b=4) #arguments\n",
    "print(ans)"
   ]
  },
  {
   "cell_type": "code",
   "execution_count": 6,
   "metadata": {},
   "outputs": [
    {
     "name": "stdout",
     "output_type": "stream",
     "text": [
      "7\n"
     ]
    }
   ],
   "source": [
    "#Default argument - Assigning default value for the parameter if the argument is not given\n",
    "\n",
    "# area of rectangle\n",
    "def area(l,b=1): #parameters\n",
    "    return l*b\n",
    "\n",
    "l = int(input())\n",
    "b = int(input())\n",
    "ans = area(l) #arguments\n",
    "print(ans)"
   ]
  },
  {
   "cell_type": "code",
   "execution_count": 9,
   "metadata": {},
   "outputs": [
    {
     "ename": "SyntaxError",
     "evalue": "non-default argument follows default argument (1594555765.py, line 6)",
     "output_type": "error",
     "traceback": [
      "\u001b[1;36m  Cell \u001b[1;32mIn[9], line 6\u001b[1;36m\u001b[0m\n\u001b[1;33m    def area(l,b=1,a): #parameters\u001b[0m\n\u001b[1;37m                   ^\u001b[0m\n\u001b[1;31mSyntaxError\u001b[0m\u001b[1;31m:\u001b[0m non-default argument follows default argument\n"
     ]
    }
   ],
   "source": [
    "#Default argument - Assigning default value for the parameter if the argument is not given\n",
    "\n",
    "# Default argument should always be at last(First positional then default)\n",
    "\n",
    "# area of rectangle\n",
    "def area(l,b=1,a): #parameters\n",
    "    return l*b\n",
    "\n",
    "l = int(input())\n",
    "b = int(input())\n",
    "ans = area(l,b) #arguments\n",
    "print(ans)"
   ]
  },
  {
   "cell_type": "code",
   "execution_count": 11,
   "metadata": {},
   "outputs": [
    {
     "name": "stdout",
     "output_type": "stream",
     "text": [
      "Hello Krishna!\n"
     ]
    }
   ],
   "source": [
    "#Quiz\n",
    "\n",
    "def greet(name,msg=\"Hello\"):\n",
    "    print(msg,name+\"!\")\n",
    "greet(\"Krishna\")"
   ]
  }
 ],
 "metadata": {
  "kernelspec": {
   "display_name": "Python 3",
   "language": "python",
   "name": "python3"
  },
  "language_info": {
   "codemirror_mode": {
    "name": "ipython",
    "version": 3
   },
   "file_extension": ".py",
   "mimetype": "text/x-python",
   "name": "python",
   "nbconvert_exporter": "python",
   "pygments_lexer": "ipython3",
   "version": "3.11.3"
  }
 },
 "nbformat": 4,
 "nbformat_minor": 2
}
