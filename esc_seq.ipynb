{
 "cells": [
  {
   "cell_type": "code",
   "execution_count": 1,
   "metadata": {},
   "outputs": [
    {
     "name": "stdout",
     "output_type": "stream",
     "text": [
      "Escape\n",
      "Sequence\n"
     ]
    }
   ],
   "source": [
    "print(\"Escape\\nSequence\") # Escape sequence - Words that doesnot actually mean what they are seen but it has other functions to be done (\\n,\\t,\\')"
   ]
  },
  {
   "cell_type": "code",
   "execution_count": 2,
   "metadata": {},
   "outputs": [
    {
     "name": "stdout",
     "output_type": "stream",
     "text": [
      "Krishna\tB\n"
     ]
    }
   ],
   "source": [
    "print(\"Krishna\\tB\")"
   ]
  },
  {
   "cell_type": "code",
   "execution_count": 4,
   "metadata": {},
   "outputs": [
    {
     "name": "stdout",
     "output_type": "stream",
     "text": [
      "Krishna's phone\n"
     ]
    }
   ],
   "source": [
    "print('Krishna\\'s phone')"
   ]
  },
  {
   "cell_type": "code",
   "execution_count": 6,
   "metadata": {},
   "outputs": [
    {
     "name": "stdout",
     "output_type": "stream",
     "text": [
      "he said, \"This is my phone\"\n",
      "he said, \"this is my phone\"\n"
     ]
    }
   ],
   "source": [
    "print('he said, \"This is my phone\"')\n",
    "print(\"he said, \\\"this is my phone\\\"\")"
   ]
  },
  {
   "cell_type": "code",
   "execution_count": 7,
   "metadata": {},
   "outputs": [
    {
     "name": "stdout",
     "output_type": "stream",
     "text": [
      "This is a backslash : \\\n"
     ]
    }
   ],
   "source": [
    "print(\"This is a backslash : \\\\\")"
   ]
  },
  {
   "cell_type": "code",
   "execution_count": 11,
   "metadata": {},
   "outputs": [
    {
     "name": "stdout",
     "output_type": "stream",
     "text": [
      "'It's Hero Time!'\n",
      "\t\t- Ben10\n"
     ]
    }
   ],
   "source": [
    "print(\"'It\\'s Hero Time!'\\n\\t\\t- Ben10\")"
   ]
  }
 ],
 "metadata": {
  "kernelspec": {
   "display_name": "Python 3",
   "language": "python",
   "name": "python3"
  },
  "language_info": {
   "codemirror_mode": {
    "name": "ipython",
    "version": 3
   },
   "file_extension": ".py",
   "mimetype": "text/x-python",
   "name": "python",
   "nbconvert_exporter": "python",
   "pygments_lexer": "ipython3",
   "version": "3.11.3"
  }
 },
 "nbformat": 4,
 "nbformat_minor": 2
}
