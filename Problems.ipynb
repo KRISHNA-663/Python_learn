{
 "cells": [
  {
   "cell_type": "markdown",
   "metadata": {},
   "source": [
    "Print last digit of the number"
   ]
  },
  {
   "cell_type": "code",
   "execution_count": 6,
   "metadata": {},
   "outputs": [
    {
     "name": "stdout",
     "output_type": "stream",
     "text": [
      "Last digit :  8\n"
     ]
    }
   ],
   "source": [
    "num1= int(input(\"Enter a number : \"))\n",
    "\n",
    "last = num1%10\n",
    "\n",
    "print(\"Last digit : \",last)"
   ]
  },
  {
   "cell_type": "markdown",
   "metadata": {},
   "source": [
    "Str"
   ]
  },
  {
   "cell_type": "code",
   "execution_count": 7,
   "metadata": {},
   "outputs": [
    {
     "name": "stdout",
     "output_type": "stream",
     "text": [
      "8\n"
     ]
    }
   ],
   "source": [
    "num = (input(\"Enter a number : \"))\n",
    "\n",
    "last = num[len(num)-1]\n",
    "\n",
    "print(last)"
   ]
  },
  {
   "cell_type": "markdown",
   "metadata": {},
   "source": [
    "-1 -> Negative indexing (last char)"
   ]
  },
  {
   "cell_type": "code",
   "execution_count": 11,
   "metadata": {},
   "outputs": [
    {
     "name": "stdout",
     "output_type": "stream",
     "text": [
      "9\n"
     ]
    }
   ],
   "source": [
    "num2 = (input(\"Enter a number : \"))\n",
    "last = num2[-1]\n",
    "\n",
    "print(last)"
   ]
  },
  {
   "cell_type": "markdown",
   "metadata": {},
   "source": [
    "Print tenth place in a number"
   ]
  },
  {
   "cell_type": "code",
   "execution_count": 16,
   "metadata": {},
   "outputs": [
    {
     "name": "stdout",
     "output_type": "stream",
     "text": [
      "Tens digit :  4\n"
     ]
    }
   ],
   "source": [
    "n = int(input(\"Enter the number :  \"))\n",
    "\n",
    "tenth = n%100\n",
    "ans = tenth//10 \n",
    "\n",
    "print(\"Tens digit : \",ans)"
   ]
  },
  {
   "cell_type": "markdown",
   "metadata": {},
   "source": [
    "or"
   ]
  },
  {
   "cell_type": "code",
   "execution_count": 18,
   "metadata": {},
   "outputs": [
    {
     "name": "stdout",
     "output_type": "stream",
     "text": [
      "Tens digit :  8\n"
     ]
    }
   ],
   "source": [
    "m = int(input(\"Enter : \"))\n",
    "m //=10\n",
    "ans = m%10\n",
    "\n",
    "print(\"Tens digit : \",ans)"
   ]
  },
  {
   "cell_type": "markdown",
   "metadata": {},
   "source": [
    "ODD or EVEN"
   ]
  },
  {
   "cell_type": "code",
   "execution_count": 6,
   "metadata": {},
   "outputs": [
    {
     "name": "stdout",
     "output_type": "stream",
     "text": [
      "The number is even\n"
     ]
    }
   ],
   "source": [
    "number = int(input(\"Enter a number : \"))\n",
    "\n",
    "if(number%2==0):\n",
    "    print(\"The number is even\")\n",
    "else:\n",
    "    print(\"The number is odd\")"
   ]
  },
  {
   "cell_type": "markdown",
   "metadata": {},
   "source": [
    "ODD or EVEN - Ternary Operator"
   ]
  },
  {
   "cell_type": "code",
   "execution_count": 7,
   "metadata": {},
   "outputs": [
    {
     "name": "stdout",
     "output_type": "stream",
     "text": [
      "Even\n"
     ]
    }
   ],
   "source": [
    "print(\"Even\"if(number%2==0)else \"Odd\")"
   ]
  },
  {
   "cell_type": "markdown",
   "metadata": {},
   "source": [
    "Problem Statement\n",
    "\n",
    "\n",
    "\n",
    "When a particular range is given to Kyle, he writes down all the values within that range which consists of unique digits. \n",
    "\n",
    "\n",
    "\n",
    "For example, if the range 10-30 is given, he writes down all the values except 11 and 22 since their digits are repeated. However, when large ranges are given, he finds it difficult to identify the numbers. Help him by writing a code that prints all the values in the range that satisfy the given condition.\n",
    "\n",
    "Input format :\n",
    "The input consists of the range values x and y.\n",
    "\n",
    "Output format :\n",
    "The output displays the values which have unique digits in the range as shown in the sample test case.\n",
    "\n",
    "Code constraints :\n",
    "0 <= x, y <= 1000\n",
    "\n",
    "Sample test cases :\n",
    "Input 1 :\n",
    "10 30\n",
    "Output 1 :\n",
    "10 12 13 14 15 16 17 18 19 20 21 23 24 25 26 27 28 29 30 \n"
   ]
  },
  {
   "cell_type": "code",
   "execution_count": null,
   "metadata": {},
   "outputs": [],
   "source": [
    "def unique(i):\n",
    "    num=str(i)\n",
    "    return len(set(num))==len(num)\n",
    "\n",
    "\n",
    "l = list(map(int,input().split()))\n",
    "\n",
    "n = l[0]\n",
    "m = l[1]\n",
    "res=[]\n",
    "for i in range(n,m+1):\n",
    "    if unique(i):\n",
    "        res.append(i)\n",
    "    \n",
    "    \n",
    "print(\" \".join(map(str,res)))\n"
   ]
  },
  {
   "cell_type": "markdown",
   "metadata": {},
   "source": [
    "Problem Statement\n",
    "\n",
    "\n",
    "\n",
    "You have been given a string having space-separated multiple words. Reprint the string after removing the characters that occur more than once in the string. You are supposed to remove the later occurrences of a character.\n",
    "\n",
    "Input format :\n",
    "The input consists of a string that may have white spaces.\n",
    "\n",
    "Output format :\n",
    "The output displays the string as per the mentioned specification.\n",
    "\n",
    "Code constraints :\n",
    "1 <= Length of the string <= 50\n",
    "\n",
    "Sample test cases :\n",
    "Input 1 :\n",
    "aaaaaaaaa\n",
    "Output 1 :\n",
    "a\n",
    "Input 2 :\n",
    "quick fox jumps lake\n",
    "Output 2 :\n",
    "quick foxjmpslae"
   ]
  },
  {
   "cell_type": "code",
   "execution_count": null,
   "metadata": {},
   "outputs": [],
   "source": [
    "def duplicate(n):\n",
    "    result=[]\n",
    "    for i in n:\n",
    "        if i not in result:\n",
    "            result.append(i)\n",
    "    return ''.join(result)\n",
    "\n",
    "n = input()\n",
    "\n",
    "res = duplicate(n)\n",
    "\n",
    "print(res)"
   ]
  },
  {
   "cell_type": "markdown",
   "metadata": {},
   "source": [
    "Number to Roman"
   ]
  },
  {
   "cell_type": "code",
   "execution_count": 1,
   "metadata": {},
   "outputs": [
    {
     "name": "stdout",
     "output_type": "stream",
     "text": [
      "Roman Numeral of Integer is: V\n"
     ]
    }
   ],
   "source": [
    "def roman(num):\n",
    "    val = [1000,900,500,400,\n",
    "           100,90,50,40,\n",
    "           10,9,5,4,\n",
    "           1\n",
    "           ]\n",
    "    syb = [\"M\",\"CM\",\"D\",\"CD\",\n",
    "           \"C\",\"XC\",\"L\",\"XL\",\n",
    "           \"X\",\"IX\",\"V\",\"IV\",\n",
    "           \"I\"\n",
    "           ]\n",
    "    roman_num=\"\"\n",
    "    i=0\n",
    "    while num>0:\n",
    "        for _ in range(num//val[i]):\n",
    "            roman_num+=syb[i]\n",
    "            num-=val[i]\n",
    "        i+=1\n",
    "    return roman_num\n",
    "\n",
    "num = int(input())\n",
    "roman_number = roman(num)\n",
    "print(\"Roman Numeral of Integer is:\",roman_number)"
   ]
  }
 ],
 "metadata": {
  "kernelspec": {
   "display_name": "Python 3",
   "language": "python",
   "name": "python3"
  },
  "language_info": {
   "codemirror_mode": {
    "name": "ipython",
    "version": 3
   },
   "file_extension": ".py",
   "mimetype": "text/x-python",
   "name": "python",
   "nbconvert_exporter": "python",
   "pygments_lexer": "ipython3",
   "version": "3.11.3"
  }
 },
 "nbformat": 4,
 "nbformat_minor": 2
}
