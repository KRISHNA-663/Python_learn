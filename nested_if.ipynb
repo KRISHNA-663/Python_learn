{
 "cells": [
  {
   "cell_type": "code",
   "execution_count": 6,
   "metadata": {},
   "outputs": [
    {
     "name": "stdout",
     "output_type": "stream",
     "text": [
      "You are fit!\n"
     ]
    }
   ],
   "source": [
    "age = int(input())\n",
    "pizz = input(\"Do you eat pizza?\")\n",
    "exercise = input(\"Do you exercise regularly?\")\n",
    "\n",
    "if(age<30):\n",
    "    if(pizz == \"yes\"):\n",
    "        print(\"You are unfit\")\n",
    "    else:\n",
    "        print(\"You are fit!\")\n",
    "else:\n",
    "    if(exercise == \"yes\"):\n",
    "        print(\"You are fit!\")\n",
    "    else:\n",
    "        print(\"You are unfit\")"
   ]
  },
  {
   "cell_type": "markdown",
   "metadata": {},
   "source": [
    "Ternary Operator"
   ]
  },
  {
   "cell_type": "code",
   "execution_count": 7,
   "metadata": {},
   "outputs": [
    {
     "name": "stdout",
     "output_type": "stream",
     "text": [
      "fit\n"
     ]
    }
   ],
   "source": [
    "print((\"unfit\" if pizz==\"yes\" else \"fit\")if(age<30)else(\"fit\" if(exercise==\"yes\") else \"unfit\"))"
   ]
  }
 ],
 "metadata": {
  "kernelspec": {
   "display_name": "Python 3",
   "language": "python",
   "name": "python3"
  },
  "language_info": {
   "codemirror_mode": {
    "name": "ipython",
    "version": 3
   },
   "file_extension": ".py",
   "mimetype": "text/x-python",
   "name": "python",
   "nbconvert_exporter": "python",
   "pygments_lexer": "ipython3",
   "version": "3.11.3"
  }
 },
 "nbformat": 4,
 "nbformat_minor": 2
}
