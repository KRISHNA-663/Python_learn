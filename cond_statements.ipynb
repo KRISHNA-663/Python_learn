{
 "cells": [
  {
   "cell_type": "markdown",
   "metadata": {},
   "source": [
    "Conditional Statements"
   ]
  },
  {
   "cell_type": "code",
   "execution_count": 1,
   "metadata": {},
   "outputs": [
    {
     "name": "stdout",
     "output_type": "stream",
     "text": [
      "Negative\n"
     ]
    }
   ],
   "source": [
    "num = int(input(\"Enter a number :\"))\n",
    "\n",
    "if(num>0):\n",
    "    print(\"Positive number\")\n",
    "else:\n",
    "    print(\"Negative\")"
   ]
  },
  {
   "cell_type": "code",
   "execution_count": 2,
   "metadata": {},
   "outputs": [
    {
     "name": "stdout",
     "output_type": "stream",
     "text": [
      "Success\n"
     ]
    }
   ],
   "source": [
    "if(5==5):\n",
    "    print(\"Success\")"
   ]
  },
  {
   "cell_type": "code",
   "execution_count": 3,
   "metadata": {},
   "outputs": [
    {
     "name": "stdout",
     "output_type": "stream",
     "text": [
      "Hey! \n",
      "Krishna\n",
      "-----------------\n",
      "Krishna\n"
     ]
    }
   ],
   "source": [
    "if(True):\n",
    "    print(\"Hey! \")\n",
    "print(\"Krishna\")\n",
    "\n",
    "print(\"-----------------\")\n",
    "\n",
    "if(False):\n",
    "    print(\"Hey! \")\n",
    "print(\"Krishna\")"
   ]
  },
  {
   "cell_type": "code",
   "execution_count": 3,
   "metadata": {},
   "outputs": [
    {
     "name": "stdout",
     "output_type": "stream",
     "text": [
      "Negative :  -5\n"
     ]
    }
   ],
   "source": [
    "number = int(input())\n",
    "\n",
    "if(number == 0):\n",
    "    print(\"zero : \",number)\n",
    "elif(number>0):\n",
    "    print(\"Positive : \",number)\n",
    "else:\n",
    "    print(\"Negative : \",number)"
   ]
  }
 ],
 "metadata": {
  "kernelspec": {
   "display_name": "Python 3",
   "language": "python",
   "name": "python3"
  },
  "language_info": {
   "codemirror_mode": {
    "name": "ipython",
    "version": 3
   },
   "file_extension": ".py",
   "mimetype": "text/x-python",
   "name": "python",
   "nbconvert_exporter": "python",
   "pygments_lexer": "ipython3",
   "version": "3.11.3"
  }
 },
 "nbformat": 4,
 "nbformat_minor": 2
}
