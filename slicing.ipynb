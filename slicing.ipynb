{
 "cells": [
  {
   "cell_type": "markdown",
   "metadata": {},
   "source": [
    "Slicing"
   ]
  },
  {
   "cell_type": "code",
   "execution_count": 6,
   "metadata": {},
   "outputs": [
    {
     "name": "stdout",
     "output_type": "stream",
     "text": [
      "K\n",
      "Krish\n",
      "Kih\n"
     ]
    }
   ],
   "source": [
    "str = \"Krishna\"\n",
    "\n",
    "print(str[0])\n",
    "\n",
    "print(str[0:5])\n",
    "\n",
    "print(str[0:5:2]) #[start,end,increment]"
   ]
  },
  {
   "cell_type": "code",
   "execution_count": 9,
   "metadata": {},
   "outputs": [
    {
     "name": "stdout",
     "output_type": "stream",
     "text": [
      "('apple', 'orange', 'Kiwi', 'pineapple')\n",
      "('apple', 'Kiwi')\n"
     ]
    }
   ],
   "source": [
    "fruits = ('apple','orange','Kiwi','pineapple')\n",
    "\n",
    "print(fruits[0:4])\n",
    "print(fruits[0:4:2])"
   ]
  },
  {
   "cell_type": "code",
   "execution_count": 11,
   "metadata": {},
   "outputs": [
    {
     "name": "stdout",
     "output_type": "stream",
     "text": [
      "('apple', 'orange', 'Kiwi', 'pineapple')\n",
      "\n",
      "()\n"
     ]
    }
   ],
   "source": [
    "print(fruits[0:50]) # Doesnot throw error for 50 as out of range\n",
    "print()\n",
    "print(fruits[10:50]) # Doesnot throw error"
   ]
  },
  {
   "cell_type": "code",
   "execution_count": 15,
   "metadata": {},
   "outputs": [
    {
     "name": "stdout",
     "output_type": "stream",
     "text": [
      "\n",
      "\n",
      "nhsir\n"
     ]
    }
   ],
   "source": [
    "print(str[0:5:-1]) # prints nothing\n",
    "print()\n",
    "print(str[5:0:-1]) # Reverse indexing"
   ]
  },
  {
   "cell_type": "code",
   "execution_count": 17,
   "metadata": {},
   "outputs": [
    {
     "name": "stdout",
     "output_type": "stream",
     "text": [
      "[5, 1, 8]\n",
      "[2, 5, 3, 7, 4]\n"
     ]
    }
   ],
   "source": [
    "#Quiz\n",
    "\n",
    "numbers = [2,5,1,8,4]\n",
    "print(numbers[1:4])\n",
    "\n",
    "numbers[2:4]=[3,7]\n",
    "print(numbers)"
   ]
  }
 ],
 "metadata": {
  "kernelspec": {
   "display_name": "Python 3",
   "language": "python",
   "name": "python3"
  },
  "language_info": {
   "codemirror_mode": {
    "name": "ipython",
    "version": 3
   },
   "file_extension": ".py",
   "mimetype": "text/x-python",
   "name": "python",
   "nbconvert_exporter": "python",
   "pygments_lexer": "ipython3",
   "version": "3.11.3"
  }
 },
 "nbformat": 4,
 "nbformat_minor": 2
}
