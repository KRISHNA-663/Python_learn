{
 "cells": [
  {
   "cell_type": "markdown",
   "metadata": {},
   "source": [
    "Traversal"
   ]
  },
  {
   "cell_type": "code",
   "execution_count": 4,
   "metadata": {},
   "outputs": [
    {
     "name": "stdout",
     "output_type": "stream",
     "text": [
      "apple\n",
      "orange\n",
      "Kiwi\n",
      "pineapple\n",
      "\n",
      "apple\n",
      "orange\n",
      "Kiwi\n",
      "pineapple\n"
     ]
    }
   ],
   "source": [
    "# Tuple\n",
    "\n",
    "fruits = ('apple','orange','Kiwi','pineapple')\n",
    "\n",
    "# Method-1\n",
    "\n",
    "for i in range(len(fruits)):\n",
    "    print(fruits[i])\n",
    "print()\n",
    "\n",
    "# Method-2\n",
    "\n",
    "for i in fruits:\n",
    "    print(i) "
   ]
  },
  {
   "cell_type": "code",
   "execution_count": 5,
   "metadata": {},
   "outputs": [
    {
     "name": "stdout",
     "output_type": "stream",
     "text": [
      "apple\n",
      "orange\n",
      "Kiwi\n",
      "pineapple\n",
      "\n",
      "apple\n",
      "orange\n",
      "Kiwi\n",
      "pineapple\n"
     ]
    }
   ],
   "source": [
    "# List\n",
    "\n",
    "fruits = ['apple','orange','Kiwi','pineapple']\n",
    "\n",
    "# Method-1\n",
    "\n",
    "for i in range(len(fruits)):\n",
    "    print(fruits[i])\n",
    "print()\n",
    "\n",
    "# Method-2\n",
    "\n",
    "for i in fruits:\n",
    "    print(i) "
   ]
  }
 ],
 "metadata": {
  "kernelspec": {
   "display_name": "Python 3",
   "language": "python",
   "name": "python3"
  },
  "language_info": {
   "codemirror_mode": {
    "name": "ipython",
    "version": 3
   },
   "file_extension": ".py",
   "mimetype": "text/x-python",
   "name": "python",
   "nbconvert_exporter": "python",
   "pygments_lexer": "ipython3",
   "version": "3.11.3"
  }
 },
 "nbformat": 4,
 "nbformat_minor": 2
}
