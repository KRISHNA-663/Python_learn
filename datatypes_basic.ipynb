{
 "cells": [
  {
   "cell_type": "code",
   "execution_count": 2,
   "metadata": {},
   "outputs": [
    {
     "name": "stdout",
     "output_type": "stream",
     "text": [
      "Krishna\n",
      "21\n",
      "50.0\n",
      "False\n"
     ]
    }
   ],
   "source": [
    "#Datatypes - Basic\n",
    "\n",
    "name=\"Krishna\" #string\n",
    "print(name)\n",
    "\n",
    "age=21\n",
    "print(age) #Integer\n",
    "\n",
    "balance=50.0\n",
    "print(balance) #float\n",
    "\n",
    "has_credit_card = False\n",
    "print(has_credit_card) #boolean"
   ]
  },
  {
   "cell_type": "code",
   "execution_count": 4,
   "metadata": {},
   "outputs": [
    {
     "name": "stdout",
     "output_type": "stream",
     "text": [
      "jegan\n"
     ]
    }
   ],
   "source": [
    "_=\"jegan\"  # _ can also be used and is considered as an Identifier\n",
    "print(_) "
   ]
  },
  {
   "cell_type": "code",
   "execution_count": 3,
   "metadata": {},
   "outputs": [
    {
     "name": "stdout",
     "output_type": "stream",
     "text": [
      "<class 'int'>\n"
     ]
    }
   ],
   "source": [
    "print(type(age))"
   ]
  }
 ],
 "metadata": {
  "kernelspec": {
   "display_name": "Python 3",
   "language": "python",
   "name": "python3"
  },
  "language_info": {
   "codemirror_mode": {
    "name": "ipython",
    "version": 3
   },
   "file_extension": ".py",
   "mimetype": "text/x-python",
   "name": "python",
   "nbconvert_exporter": "python",
   "pygments_lexer": "ipython3",
   "version": "3.11.3"
  }
 },
 "nbformat": 4,
 "nbformat_minor": 2
}
