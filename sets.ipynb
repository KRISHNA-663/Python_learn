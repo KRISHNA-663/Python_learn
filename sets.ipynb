{
 "cells": [
  {
   "cell_type": "markdown",
   "metadata": {},
   "source": [
    "Sets - Combination of list and dictionary\n",
    "- Unordered like dict and no index\n",
    "- Heterogenous like list\n",
    "- Doesn't allow duplicates"
   ]
  },
  {
   "cell_type": "code",
   "execution_count": 1,
   "metadata": {},
   "outputs": [
    {
     "name": "stdout",
     "output_type": "stream",
     "text": [
      "<class 'set'>\n",
      "{1, 2, 3, 4}\n"
     ]
    }
   ],
   "source": [
    "set1 = {1,2,3,4}\n",
    "\n",
    "print(type(set1))\n",
    "print(set1)"
   ]
  },
  {
   "cell_type": "code",
   "execution_count": 4,
   "metadata": {},
   "outputs": [
    {
     "name": "stdout",
     "output_type": "stream",
     "text": [
      "{1, 2}\n"
     ]
    }
   ],
   "source": [
    "set2={1,2,2,2} # Doesn't allow duplicates\n",
    "\n",
    "print(set2) "
   ]
  },
  {
   "cell_type": "code",
   "execution_count": 7,
   "metadata": {},
   "outputs": [
    {
     "name": "stdout",
     "output_type": "stream",
     "text": [
      "{0, 1, 2, 3, 4, 5, 51, 55}\n"
     ]
    }
   ],
   "source": [
    "#Inserting an element in a set\n",
    "\n",
    "# set1.add(55)\n",
    "# set1.add(5)\n",
    "# set1.add(51)\n",
    "set1.add(0)\n",
    "\n",
    "\n",
    "print(set1)"
   ]
  },
  {
   "cell_type": "code",
   "execution_count": 9,
   "metadata": {},
   "outputs": [
    {
     "name": "stdout",
     "output_type": "stream",
     "text": [
      "{0, 1, 2, 3, 5, '1', 51, 55}\n"
     ]
    }
   ],
   "source": [
    "# Removing an element in a set\n",
    "\n",
    "# set1.remove(4)\n",
    "# print(set1)\n",
    "\n",
    "set1.add('1')\n",
    "print(set1)"
   ]
  },
  {
   "cell_type": "code",
   "execution_count": 12,
   "metadata": {},
   "outputs": [
    {
     "name": "stdout",
     "output_type": "stream",
     "text": [
      "{0, 1, 2, 3, 5, '1', 51, 55}\n",
      "{0, 2, 3, 5, '1', 51, 55}\n"
     ]
    }
   ],
   "source": [
    "# True=1  and False=0\n",
    "\n",
    "set1.add(True) # duplicate element\n",
    "print(set1)\n",
    "\n",
    "set1.remove(True) #removes 1 \n",
    "print(set1)"
   ]
  },
  {
   "cell_type": "code",
   "execution_count": 14,
   "metadata": {},
   "outputs": [
    {
     "name": "stdout",
     "output_type": "stream",
     "text": [
      "set()\n"
     ]
    }
   ],
   "source": [
    "#clear\n",
    "\n",
    "set1.clear()\n",
    "print(set1)"
   ]
  },
  {
   "cell_type": "markdown",
   "metadata": {},
   "source": [
    "Set conversion"
   ]
  },
  {
   "cell_type": "code",
   "execution_count": 16,
   "metadata": {},
   "outputs": [
    {
     "name": "stdout",
     "output_type": "stream",
     "text": [
      "<class 'list'>\n",
      "<class 'set'>\n",
      "{1, 2, 3, 4}\n"
     ]
    }
   ],
   "source": [
    "# list to sets\n",
    "\n",
    "lst = [1,2,3,4]\n",
    "\n",
    "print(type(lst))\n",
    "\n",
    "set1 = set(lst)\n",
    "print(type(set1))\n",
    "print(set1)"
   ]
  }
 ],
 "metadata": {
  "kernelspec": {
   "display_name": "Python 3",
   "language": "python",
   "name": "python3"
  },
  "language_info": {
   "codemirror_mode": {
    "name": "ipython",
    "version": 3
   },
   "file_extension": ".py",
   "mimetype": "text/x-python",
   "name": "python",
   "nbconvert_exporter": "python",
   "pygments_lexer": "ipython3",
   "version": "3.11.3"
  }
 },
 "nbformat": 4,
 "nbformat_minor": 2
}
